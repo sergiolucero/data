{
 "cells": [
  {
   "cell_type": "markdown",
   "metadata": {},
   "source": [
    "# 1 Concon Datos\n",
    "\n",
    "Para fijar ideas, y desde el mas que grato litoral, compilaremos un primer set de datos georef\n",
    "\n",
    "(*) places|restaurant|museo|playa\n",
    "(*) geocgr"
   ]
  },
  {
   "cell_type": "code",
   "execution_count": 10,
   "metadata": {
    "jupyter": {
     "source_hidden": true
    }
   },
   "outputs": [],
   "source": [
    "import pandas as pd\n",
    "def pget(city,place): \n",
    "    df = pd.read_html(f'http://quant.cl/places/{city}_{place}')[0]\n",
    "    df['city'] = city\n",
    "    df['place'] = place\n",
    "    return df"
   ]
  },
  {
   "cell_type": "code",
   "execution_count": 11,
   "metadata": {
    "collapsed": true,
    "jupyter": {
     "outputs_hidden": true,
     "source_hidden": true
    }
   },
   "outputs": [
    {
     "data": {
      "text/html": [
       "<div>\n",
       "<style scoped>\n",
       "    .dataframe tbody tr th:only-of-type {\n",
       "        vertical-align: middle;\n",
       "    }\n",
       "\n",
       "    .dataframe tbody tr th {\n",
       "        vertical-align: top;\n",
       "    }\n",
       "\n",
       "    .dataframe thead th {\n",
       "        text-align: right;\n",
       "    }\n",
       "</style>\n",
       "<table border=\"1\" class=\"dataframe\">\n",
       "  <thead>\n",
       "    <tr style=\"text-align: right;\">\n",
       "      <th></th>\n",
       "      <th>name</th>\n",
       "      <th>lat</th>\n",
       "      <th>lng</th>\n",
       "      <th>rating</th>\n",
       "      <th>direccion</th>\n",
       "      <th>city</th>\n",
       "      <th>place</th>\n",
       "    </tr>\n",
       "  </thead>\n",
       "  <tbody>\n",
       "    <tr>\n",
       "      <th>0</th>\n",
       "      <td>Playa Amarilla</td>\n",
       "      <td>-32.922798</td>\n",
       "      <td>-71.524561</td>\n",
       "      <td>3.8</td>\n",
       "      <td>Playa Amarilla, ConcÃ³n</td>\n",
       "      <td>Concon</td>\n",
       "      <td>Playa</td>\n",
       "    </tr>\n",
       "  </tbody>\n",
       "</table>\n",
       "</div>"
      ],
      "text/plain": [
       "             name        lat        lng  rating                direccion  \\\n",
       "0  Playa Amarilla -32.922798 -71.524561     3.8  Playa Amarilla, ConcÃ³n   \n",
       "\n",
       "     city  place  \n",
       "0  Concon  Playa  "
      ]
     },
     "execution_count": 11,
     "metadata": {},
     "output_type": "execute_result"
    }
   ],
   "source": [
    "pget('Concon','Playa')"
   ]
  },
  {
   "cell_type": "code",
   "execution_count": 13,
   "metadata": {},
   "outputs": [],
   "source": [
    "chars=[chr(i) for i in range(72)]"
   ]
  },
  {
   "cell_type": "code",
   "execution_count": 14,
   "metadata": {
    "jupyter": {
     "source_hidden": true
    }
   },
   "outputs": [
    {
     "name": "stdout",
     "output_type": "stream",
     "text": [
      "playa 1\n",
      "museo 5\n",
      "farmacia 15\n",
      "restaurant 20\n",
      "botilleria 8\n",
      "almacen 2\n",
      "supermercado 20\n"
     ]
    }
   ],
   "source": [
    "places = ['playa','museo','farmacia','restaurant','botilleria','almacen','supermercado']\n",
    "cdf = pd.DataFrame()\n",
    "for place in places:\n",
    "    pdf = pget('Concon',place)\n",
    "    print(place,len(pdf))\n",
    "    cdf = cdf.append(pdf)\n",
    "cdf.to_csv('Concon.csv', index=False)"
   ]
  },
  {
   "cell_type": "code",
   "execution_count": 19,
   "metadata": {},
   "outputs": [
    {
     "name": "stdout",
     "output_type": "stream",
     "text": [
      "download: s3://corporacionciudades/geocgr/geocgr_scraper.py to ./geocgr_scraper.py\n",
      "#fuente: http://www.subdere.gov.cl/sites/default/files/documentos/cut_2018_v03.xls\n",
      "url_base='https://www.contraloria.cl/opencgrapp/geocgr/api/comunas/%05d/newobras'\n"
     ]
    }
   ],
   "source": [
    "# Ahora los datos de la GeoCGR\n",
    "!aws s3 cp s3://corporacionciudades/geocgr/geocgr_scraper.py .\n",
    "!grep http geocgr_scraper.py"
   ]
  },
  {
   "cell_type": "code",
   "execution_count": 24,
   "metadata": {},
   "outputs": [
    {
     "data": {
      "text/plain": [
       "'5103'"
      ]
     },
     "execution_count": 24,
     "metadata": {},
     "output_type": "execute_result"
    }
   ],
   "source": [
    "import requests\n",
    "cid=requests.get('http://quant.cl/cut/Concón').text\n",
    "cid"
   ]
  },
  {
   "cell_type": "code",
   "execution_count": 30,
   "metadata": {},
   "outputs": [
    {
     "data": {
      "text/plain": [
       "'https://www.contraloria.cl/opencgrapp/geocgr/api/comunas/05103/newobras'"
      ]
     },
     "execution_count": 30,
     "metadata": {},
     "output_type": "execute_result"
    }
   ],
   "source": [
    "import os\n",
    "url=os.popen('grep newobras geocgr_scraper.py').read()[10:-2]\n",
    "url = url %int(cid)\n",
    "url"
   ]
  },
  {
   "cell_type": "code",
   "execution_count": 31,
   "metadata": {},
   "outputs": [
    {
     "data": {
      "text/plain": [
       "98"
      ]
     },
     "execution_count": 31,
     "metadata": {},
     "output_type": "execute_result"
    }
   ],
   "source": [
    "cj = requests.get(url).json()\n",
    "len(cj)"
   ]
  },
  {
   "cell_type": "code",
   "execution_count": 35,
   "metadata": {
    "collapsed": true,
    "jupyter": {
     "outputs_hidden": true
    }
   },
   "outputs": [
    {
     "data": {
      "text/plain": [
       "[(0,\n",
       "  'Se consulta ejecutar obras de pavimentación de aceras y calzadas en sector Balneario de la comuna de Concón sobre la base de especificación proporcionada por proyecto aprobado por Serviu Región de Valparaiso.'),\n",
       " (1,\n",
       "  'El contrato tiene como objetivo la ejecución de la Obra “Mejoramiento Pavimento Avenida El Prado”, contando al efecto con una asignación de recursos para obras civiles que alcanza la suma de $ 138.095.000 (ciento treinta y ocho millones noventa y cinco mil pesos).'),\n",
       " (2,\n",
       "  'El contrato tiene como objetivo la ejecución de la Obra “Construcción Pavimento Calle Seis entre Maroto y Santa Elena, Concón, contando al efecto con la asignación de recursos para obras civiles por la suma total de $ 44.701.000 provista por el Fondo Regional de Iniciativa Local (FRIL).'),\n",
       " (10,\n",
       "  'El objetivo principal de la iniciativa que se plantea dice relación con la realización de tareas de orientadas a completar la digitalización de las redes de comunicaciones de los semáforos actualmente conectados al sistema de control de tránsito del Gran Valparaíso. De manera complementaria a lo anterior, se contempla la semaforización de cruces en los cuales se justifique técnicamente dicha instalación y normalización de cruces que actualmente no cumplen con la normativa UOCT. Dichas obras están contempladas para cruces críticos de la Región de Valparaíso, concentrados en principio en las comunas de Limache y Olmué. Por otro lado, y con el fin de mejorar las condiciones de operación e información al usuario, se implementará diversas tecnologías ITS, como mejoras al Sistema de Circuito cerrado de Televisión, Sistema de Estaciones de Conteo; Sistema de Letreros y Señales de Mensajería Variable; Sistemas de Sensorización para objetivos diversos como: mediciones automáticas de tiempo de viaje, determinación de orígenes y destinos de usuarios, detección de velocidad, entre otros. Finalmente, y con el objetivo de contar con mayores niveles de seguridad en cuanto a la continuidad de las comunicaciones con los elementos de terreno, se contempla iniciar la materialización de anillos de redundancia en las comunas actualmente conectadas al sistema de control.'),\n",
       " (15,\n",
       "  'El contrato tiene como objetivo la ejecución de la Obra “Construcción Pavimento Calle Laura Barros Concón Sur, Comuna de Concón”, contando al efecto con la asignación de recursos para obras civiles por la suma total de $ 31.300.049 provista por el Programa de Mejoramiento Urbano y Equipamiento Comunal.'),\n",
       " (16,\n",
       "  'Se requiere contratar la ejecución de obras de reposición de cubierta y de sistema eléctrico de inmueble destinado como Sede Social Junta de Vecinos Vista al Mar II, ubicado en calle El Cipres N°89 sector Vista al Mar II, Concón, de acuerdo a lo indicado en las Especificaciones Técnicas desarrolladas para esta Licitación.'),\n",
       " (17,\n",
       "  ' El contrato tiene como objetivo la ejecución de la Obras “REPOSICIÓN MUROS CONTENCIÓN Y REPOSICIÓN SOCAVÓN JARDIN INFANTIL Y SALA CUNA CONCONCITO” contando al efecto con una asignación de recursos para obras civiles que alcanza la suma de $28.000.000 (veintiocho millones de pesos). '),\n",
       " (21,\n",
       "  'Se requiere contratar la realización de obras destinadas al mejoramiento y reparación de los servicios higiénicos y dependencias del área docente del Liceo Politécnico de Concón, ubicado en calle Porvenir 865, Concón.'),\n",
       " (26,\n",
       "  'La Municipalidad de Concón, como Unidad Ejecutora, llama a licitación Pública para contratar la ejecución de la obra Proyecto, FRIL, código BIP 30357998-0 “Construcción  Cierre Perimetral CESFAM comuna de Concón”.\\r\\n \\tLas presentes Bases Administrativas, Especificaciones Técnicas, Formularios Anexos y Planos  están destinadas a regular la licitación, mediante la cual la Municipalidad convoca a Contratistas para ejecutar la obra señalada.        \\r\\n'),\n",
       " (32,\n",
       "  'El contrato tiene como objetivo la ejecución de la Obras “ARREGLOS MENORES DE INFRAESTRUCTURA SANITARIA EN ESTABLECIMIENTOS EDUCACIONALES MUNICIPALES, DE LA COMUNA DE CONCON”, contando al efecto con una asignación de recursos para obras civiles que alcanza la suma de $69.630.266.-(sesenta y nueve millones seiscientos treinta mil doscientos sesenta y seis pesos). '),\n",
       " (37,\n",
       "  'Ejecución obras menores varias sedes comunitarias Concón. Tres proyectos Seguridad Ciudadana Modificación de cierre predial Club Deportivo Concón Bajo, Construcción Cerrajería sobre Muros, Reposición de Ventanas y Protecciones Centro de Madres Alborada, Construcción Cierre, Cerrajería y Vanos Patio Posterior, Club Deportivo Centenario y Cierre Perimetral Terreno J.V. Villa Concón II Fondeve.'),\n",
       " (39,\n",
       "  'Ejecución obras menores varias sedes comunitarias Concón. Tres proyectos Seguridad Ciudadana Modificación de cierre predial Club Deportivo Concón Bajo, Construcción Cerrajería sobre Muros, Reposición de Ventanas y Protecciones Centro de Madres Alborada, Construcción Cierre, Cerrajería y Vanos Patio Posterior, Club Deportivo Centenario y Cierre Perimetral Terreno J.V. Villa Concón II Fondeve.'),\n",
       " (40,\n",
       "  'Ejecución obras menores varias sedes comunitarias Concón. Tres proyectos Seguridad Ciudadana Modificación de cierre predial Club Deportivo Concón Bajo, Construcción Cerrajería sobre Muros, Reposición de Ventanas y Protecciones Centro de Madres Alborada, Construcción Cierre, Cerrajería y Vanos Patio Posterior, Club Deportivo Centenario y Cierre Perimetral Terreno J.V. Villa Concón II Fondeve.'),\n",
       " (42,\n",
       "  ' 1.1 Objetivos del Contrato Corresponde a la adjudicación, la contratación y la ejecución de las obras del proyecto: “NORMALIZACION ELECTRICA ETAPA II, ESCUELA ORO NEGRO” contando al efecto con una asignación de recursos para obras civiles que alcanza la suma de $70.823.118(setenta millones ochocientos veintitrés mil ciento dieciocho pesos). '),\n",
       " (46,\n",
       "  'El contrato tiene como objetivo la ejecución de la Obras “REPOSICIÓN MUROS CONTENCIÓN Y REPOSICIÓN SOCAVÓN JARDIN INFANTIL Y SALA CUNA CONCONCITO” contando al efecto con una asignación de recursos para obras civiles que alcanza la suma de $28.000.000 (veintiocho millones de pesos).'),\n",
       " (49,\n",
       "  'Se contempla la remoción y pavimentación en hormigón (Rotonda, caminos y calles laterales), saneamiento, illuminación y otras obras asociadas.'),\n",
       " (50,\n",
       "  'Se consulta la contratación par ejecutar la obra Construcción Cierre perimetral sede adulto mayor, discapacidad y juventud. '),\n",
       " (51,\n",
       "  'La Municipalidad de Concón, como Unidad Ejecutora, llama a licitación Pública para contratar la ejecución de la obra Proyecto, PMU- Tradicional, Código1-B-2016-208 “MURO 4 BAJADA ESCALA A CALLE SANTA LAURA”. '),\n",
       " (54,\n",
       "  'La Municipalidad de Concón, como Unidad Ejecutora, llama a licitación Pública integral para contratar la ejecución de la obra del Proyecto F.N.D.R, FRIL que se detalla a continuación: Conservación Subcomisaria de Concón  '),\n",
       " (56,\n",
       "  'Corresponde a la adjudicación, la contratación y la ejecución de las obras civiles y equipamiento del proyecto: “CONSTRUCCION CENTRO CULTURAL COMUNA DE CONCON”, BIP N°30459960-0 contando al efecto con una asignación de recursos para obras civiles, Escenotecnia, equipamiento y equipos por un monto global de $ 2.688.517.000 (dos mil millones seiscientos ochenta y ocho millones quinientos diecisiete mil pesos, IVA incluido)'),\n",
       " (57,\n",
       "  'Corresponde a la adjudicación, la contratación y la ejecución de las obras civiles y equipamiento del proyecto: “CONSTRUCCION CENTRO CULTURAL COMUNA DE CONCON”, BIP N°30459960-0 contando al efecto con una asignación de recursos para obras civiles, Escenotecnia, equipamiento y equipos por un monto global de $ 2.688.517.000 (dos mil millones seiscientos ochenta y ocho millones quinientos diecisiete mil pesos, IVA incluido)'),\n",
       " (58,\n",
       "  'Se consulta realizar obras de Mantención, Mejoramiento y Adecuación de Recintos Existentes, patio techado y cierre perimetral de la Escuela Irma Salas Silva.'),\n",
       " (61,\n",
       "  'La Junta Nacional de Jardines Infantiles (JUNJI), requiere contratar la ejecución de las obras de Conservación del Jardín Infantil “Gaviota Blanca”, código 5103001, el cual se encuentra ubicado en Pasaje Cañaveral N° 1355, Población San Jorge, Caleta Higuerillas, de la comuna de Concón, Región de Valparaíso.'),\n",
       " (62,\n",
       "  'Ejecución obras menores varias sedes comunitarias Concón. Tres proyectos Seguridad Ciudadana Modificación de cierre predial Club Deportivo Concón Bajo, Construcción Cerrajería sobre Muros, Reposición de Ventanas y Protecciones Centro de Madres Alborada, Construcción Cierre, Cerrajería y Vanos Patio Posterior, Club Deportivo Centenario y Cierre Perimetral Terreno J.V. Villa Concón II Fondeve.'),\n",
       " (64,\n",
       "  'El contrato tiene como objetivo la ejecución de la “REPOSICIÓN CUBIERTAS Y NORMALIZACIÓN ELÉCTRICA JARDIN INFANTIL Y SALA CUNA PUENTE COLMO” contando al efecto con una asignación de recursos para obras civiles que alcanza la suma de $30.000.000 (treinta millones de pesos). '),\n",
       " (66,\n",
       "  'Corresponde a la adjudicación, la contratación y la ejecución de las obras civiles y equipamiento del proyecto: “CONSTRUCCION CENTRO CULTURAL COMUNA DE CONCON”, BIP N°30459960-0 contando al efecto con una asignación de recursos para obras civiles, Escenotecnia, equipamiento y equipos por un monto global de $ 2.688.517.000 (dos mil millones seiscientos ochenta y ocho millones quinientos diecisiete mil pesos, IVA incluido)'),\n",
       " (77,\n",
       "  'El objeto de la presente Licitación Pública es la contratación de la construcción de los trabajos de pavimentación de la calle Centinela de la ciudad de Concón, ubicada entre calle Uno Oriente y la proyectada Avenida Concón Reñaca Oriente. Se considera calzada de asfalto de 7,00 m de ancho, aceras de hormigón de 1,20 m, aguas lluvias y obras complementarias.'),\n",
       " (84,\n",
       "  'La contratación tiene como objeto la ejecución de obras provisorias de emergencia para la reparación de baches en calzadas de hormigón y asfalto en diversas calles de la ciudad de Concón.'),\n",
       " (88,\n",
       "  'Corresponde a la adjudicación, la contratación y la ejecución de las obras del proyecto: “CONSTRUCCION CANCHAS DE TENIS ESTADIO ATLETICO MUNICIPAL DE CONCON”, contando al efecto con una asignación de recursos para obras civiles que alcanza la suma de $ 93.944.000 (Noventa y tres millones novecientos cuarenta y cuatro mil pesos). '),\n",
       " (94,\n",
       "  'El contrato tiene como objetivo la ejecución de la Obra denominada: “Construcción Pavimento Calle Dos Norte, Sector Enap, Comuna de Concón”, cuya especificidad aparece establecida en el marco técnico conformado por los siguientes antecedentes: • Expediente Técnico que conforma el Proyecto de “Construcción Pavimento Calle Dos Norte, Sector Enap, Comuna de Concón”, con Informe Favorable SERVIU Región de Valparaíso, según consta en ORD N° 18005650 del Sr. Jefe Departamento Técnico S de esa Repartición Pública, fechado el 26 de julio 2018. Administrativa y financieramente el proceso se encuentra regulado por el expediente de licitación conformado por las Bases Administrativas Generales y Especiales, elaboradas en conformidad al marco normativo establecido en Convenio de Transferencia para la Ejecución del Proyecto de “Construcción Pavimento Calle Dos Norte, Sector Enap, Comuna de Concón”. FINANCIAMIENTO : CONVENIO MUNICIPIO - ENAP MANDANTE: MUNICIPALIDAD DE CONCÓN La obra será contratada bajo el sistema de “Suma Alzada” en pesos chilenos, sin reajuste ni intereses, impuestos incluidos y se regirá por las Bases Administrativas Generales y las presentes Bases Administrativas Especiales, como también por la definición de materialidad establecida en el expediente técnico de la propuesta.'),\n",
       " (97,\n",
       "  'Aplicación de una carpeta asfáltica de 6 cm. de espesor, en toda la calzada desde el sector del último recapado efectuado, km 80,9000 hasta el km 82.550 sector de la curva de retorno frente a cementerio de concón; obras de bacheo asfáltico, demarcación, remoción, y recolocación de soleras. ')]"
      ]
     },
     "execution_count": 35,
     "metadata": {},
     "output_type": "execute_result"
    }
   ],
   "source": [
    "[(ix,p['DESCRIPCION']) for ix,p in enumerate(cj) \n",
    "     if 'obra' in p['DESCRIPCION']]"
   ]
  },
  {
   "cell_type": "code",
   "execution_count": 40,
   "metadata": {},
   "outputs": [
    {
     "data": {
      "text/html": [
       "<div>\n",
       "<style scoped>\n",
       "    .dataframe tbody tr th:only-of-type {\n",
       "        vertical-align: middle;\n",
       "    }\n",
       "\n",
       "    .dataframe tbody tr th {\n",
       "        vertical-align: top;\n",
       "    }\n",
       "\n",
       "    .dataframe thead th {\n",
       "        text-align: right;\n",
       "    }\n",
       "</style>\n",
       "<table border=\"1\" class=\"dataframe\">\n",
       "  <thead>\n",
       "    <tr style=\"text-align: right;\">\n",
       "      <th></th>\n",
       "      <th>0</th>\n",
       "    </tr>\n",
       "  </thead>\n",
       "  <tbody>\n",
       "    <tr>\n",
       "      <th>DESCRIPCION</th>\n",
       "      <td>Se consulta ejecutar obras de pavimentación de aceras y calzadas en sector Balneario de la comuna de Concón sobre la base de especificación proporcionada por proyecto aprobado por Serviu Región de Valparaiso.</td>\n",
       "    </tr>\n",
       "    <tr>\n",
       "      <th>MONTO_CONTRATADO</th>\n",
       "      <td>3.56453e+08</td>\n",
       "    </tr>\n",
       "    <tr>\n",
       "      <th>MONTO_CONTRATADO_MP</th>\n",
       "      <td>3.56453e+08</td>\n",
       "    </tr>\n",
       "    <tr>\n",
       "      <th>F_TRAZON</th>\n",
       "      <td>2015-04-08 00:00:00.0</td>\n",
       "    </tr>\n",
       "    <tr>\n",
       "      <th>COMUNA</th>\n",
       "      <td>05103</td>\n",
       "    </tr>\n",
       "    <tr>\n",
       "      <th>MOD_CONTRATAC</th>\n",
       "      <td>Suma alzada</td>\n",
       "    </tr>\n",
       "    <tr>\n",
       "      <th>FECHA_INI</th>\n",
       "      <td>2015-04-27 00:00:00.0</td>\n",
       "    </tr>\n",
       "    <tr>\n",
       "      <th>MULTIREG</th>\n",
       "      <td>1</td>\n",
       "    </tr>\n",
       "    <tr>\n",
       "      <th>FECHA</th>\n",
       "      <td>2015-04-08 00:00:00.0</td>\n",
       "    </tr>\n",
       "    <tr>\n",
       "      <th>CCLASIFICACION</th>\n",
       "      <td>23</td>\n",
       "    </tr>\n",
       "    <tr>\n",
       "      <th>PROC_CONTRATACION</th>\n",
       "      <td>PU</td>\n",
       "    </tr>\n",
       "    <tr>\n",
       "      <th>NOMBRE_INSP_FIS</th>\n",
       "      <td>No Existe Registro</td>\n",
       "    </tr>\n",
       "    <tr>\n",
       "      <th>APELLIDOS_CONTRATIS</th>\n",
       "      <td>-</td>\n",
       "    </tr>\n",
       "    <tr>\n",
       "      <th>TREGION</th>\n",
       "      <td>REGION DE VALPARAISO</td>\n",
       "    </tr>\n",
       "    <tr>\n",
       "      <th>REGION</th>\n",
       "      <td>05</td>\n",
       "    </tr>\n",
       "    <tr>\n",
       "      <th>MULTICOM</th>\n",
       "      <td>1</td>\n",
       "    </tr>\n",
       "    <tr>\n",
       "      <th>MULTIPROV</th>\n",
       "      <td>1</td>\n",
       "    </tr>\n",
       "    <tr>\n",
       "      <th>CREADOPOR</th>\n",
       "      <td>GEOCGR</td>\n",
       "    </tr>\n",
       "    <tr>\n",
       "      <th>CODIGO_BIP</th>\n",
       "      <td>No Existe Registro</td>\n",
       "    </tr>\n",
       "    <tr>\n",
       "      <th>APELLIDO_P_INSP_FIS</th>\n",
       "      <td></td>\n",
       "    </tr>\n",
       "    <tr>\n",
       "      <th>TITULO</th>\n",
       "      <td>Mejoramiento Aceras sector Balneario Concón</td>\n",
       "    </tr>\n",
       "    <tr>\n",
       "      <th>NOMBRE_CONSORCIO</th>\n",
       "      <td>No Existe Registro</td>\n",
       "    </tr>\n",
       "    <tr>\n",
       "      <th>RECEPCION</th>\n",
       "      <td>-1</td>\n",
       "    </tr>\n",
       "    <tr>\n",
       "      <th>TCOMUNA</th>\n",
       "      <td>CONCON</td>\n",
       "    </tr>\n",
       "    <tr>\n",
       "      <th>APELLIDOS_CONSORCIO</th>\n",
       "      <td>No Existe Registro</td>\n",
       "    </tr>\n",
       "    <tr>\n",
       "      <th>FECHA_FIN</th>\n",
       "      <td>2015-07-27 00:00:00.0</td>\n",
       "    </tr>\n",
       "    <tr>\n",
       "      <th>AVANCE_FINANCIERO</th>\n",
       "      <td>0</td>\n",
       "    </tr>\n",
       "    <tr>\n",
       "      <th>SPATIAL_OBJECT</th>\n",
       "      <td>{\"coordinates\":[-71.519,-32.9204,-71.5193,-32.9258],\"type\":\"Polyline\"}</td>\n",
       "    </tr>\n",
       "    <tr>\n",
       "      <th>MONTO_VIGENTE</th>\n",
       "      <td>356452840</td>\n",
       "    </tr>\n",
       "    <tr>\n",
       "      <th>CLASIFICACION</th>\n",
       "      <td>Transporte terrestre</td>\n",
       "    </tr>\n",
       "    <tr>\n",
       "      <th>SERV_CONTR</th>\n",
       "      <td>MUNICIPALIDAD DE CONCON</td>\n",
       "    </tr>\n",
       "    <tr>\n",
       "      <th>CODIGO_INI</th>\n",
       "      <td>No Existe Registro</td>\n",
       "    </tr>\n",
       "    <tr>\n",
       "      <th>RUN_INSP_FIS</th>\n",
       "      <td>No Existe Registro</td>\n",
       "    </tr>\n",
       "    <tr>\n",
       "      <th>X_EXPE</th>\n",
       "      <td>82987</td>\n",
       "    </tr>\n",
       "    <tr>\n",
       "      <th>RUT_CONTRATIS</th>\n",
       "      <td>10186886-9</td>\n",
       "    </tr>\n",
       "    <tr>\n",
       "      <th>SERV_MAND</th>\n",
       "      <td>MUNICIPALIDAD DE CONCON</td>\n",
       "    </tr>\n",
       "    <tr>\n",
       "      <th>LIQUIDACION</th>\n",
       "      <td>-1</td>\n",
       "    </tr>\n",
       "    <tr>\n",
       "      <th>PLAZO_EJE</th>\n",
       "      <td>0</td>\n",
       "    </tr>\n",
       "    <tr>\n",
       "      <th>ID_MERCADO_PUB</th>\n",
       "      <td>2597-18-LP15</td>\n",
       "    </tr>\n",
       "    <tr>\n",
       "      <th>NOMBRE_CONTRATIS</th>\n",
       "      <td>OMAR MAURICIO CHAVEZ COLLAO</td>\n",
       "    </tr>\n",
       "    <tr>\n",
       "      <th>AVANCE_FIN</th>\n",
       "      <td>0</td>\n",
       "    </tr>\n",
       "    <tr>\n",
       "      <th>TIPO_FIN</th>\n",
       "      <td>Presupuesto otro(s) organismo público</td>\n",
       "    </tr>\n",
       "    <tr>\n",
       "      <th>URL_ACTA</th>\n",
       "      <td>http://www.mercadopublico.cl/Procurement/Modules/RFB/StepsProcessAward/PreviewAwardAct.aspx?qs=3Ca+9RoOqRAtpOv7K77wqJAPvxhKQTEWA7P/omqbb5k=</td>\n",
       "    </tr>\n",
       "    <tr>\n",
       "      <th>SPATIAL_TOOL</th>\n",
       "      <td>DRAW</td>\n",
       "    </tr>\n",
       "    <tr>\n",
       "      <th>PROVINCIA</th>\n",
       "      <td>051</td>\n",
       "    </tr>\n",
       "    <tr>\n",
       "      <th>AVANCE_FIS</th>\n",
       "      <td>0</td>\n",
       "    </tr>\n",
       "    <tr>\n",
       "      <th>UNIDAD_EJE</th>\n",
       "      <td>Días hábiles</td>\n",
       "    </tr>\n",
       "    <tr>\n",
       "      <th>APELLIDO_M_INSP_FIS</th>\n",
       "      <td></td>\n",
       "    </tr>\n",
       "    <tr>\n",
       "      <th>CODPROYECTO</th>\n",
       "      <td>83756</td>\n",
       "    </tr>\n",
       "    <tr>\n",
       "      <th>RUT_CONS</th>\n",
       "      <td>No Existe Registro</td>\n",
       "    </tr>\n",
       "    <tr>\n",
       "      <th>F_ADJUDICACION</th>\n",
       "      <td>2015-04-08 00:00:00.0</td>\n",
       "    </tr>\n",
       "    <tr>\n",
       "      <th>T_ANTICIPADO</th>\n",
       "      <td>-1</td>\n",
       "    </tr>\n",
       "    <tr>\n",
       "      <th>MONTO_MM_USD</th>\n",
       "      <td>0.509218</td>\n",
       "    </tr>\n",
       "  </tbody>\n",
       "</table>\n",
       "</div>"
      ],
      "text/plain": [
       "                                                                                                                                                                                                                                    0\n",
       "DESCRIPCION          Se consulta ejecutar obras de pavimentación de aceras y calzadas en sector Balneario de la comuna de Concón sobre la base de especificación proporcionada por proyecto aprobado por Serviu Región de Valparaiso.\n",
       "MONTO_CONTRATADO     3.56453e+08                                                                                                                                                                                                     \n",
       "MONTO_CONTRATADO_MP  3.56453e+08                                                                                                                                                                                                     \n",
       "F_TRAZON             2015-04-08 00:00:00.0                                                                                                                                                                                           \n",
       "COMUNA               05103                                                                                                                                                                                                           \n",
       "MOD_CONTRATAC        Suma alzada                                                                                                                                                                                                     \n",
       "FECHA_INI            2015-04-27 00:00:00.0                                                                                                                                                                                           \n",
       "MULTIREG             1                                                                                                                                                                                                               \n",
       "FECHA                2015-04-08 00:00:00.0                                                                                                                                                                                           \n",
       "CCLASIFICACION       23                                                                                                                                                                                                              \n",
       "PROC_CONTRATACION    PU                                                                                                                                                                                                              \n",
       "NOMBRE_INSP_FIS      No Existe Registro                                                                                                                                                                                              \n",
       "APELLIDOS_CONTRATIS  -                                                                                                                                                                                                               \n",
       "TREGION              REGION DE VALPARAISO                                                                                                                                                                                            \n",
       "REGION               05                                                                                                                                                                                                              \n",
       "MULTICOM             1                                                                                                                                                                                                               \n",
       "MULTIPROV            1                                                                                                                                                                                                               \n",
       "CREADOPOR            GEOCGR                                                                                                                                                                                                          \n",
       "CODIGO_BIP           No Existe Registro                                                                                                                                                                                              \n",
       "APELLIDO_P_INSP_FIS                                                                                                                                                                                                                  \n",
       "TITULO               Mejoramiento Aceras sector Balneario Concón                                                                                                                                                                     \n",
       "NOMBRE_CONSORCIO     No Existe Registro                                                                                                                                                                                              \n",
       "RECEPCION            -1                                                                                                                                                                                                              \n",
       "TCOMUNA              CONCON                                                                                                                                                                                                          \n",
       "APELLIDOS_CONSORCIO  No Existe Registro                                                                                                                                                                                              \n",
       "FECHA_FIN            2015-07-27 00:00:00.0                                                                                                                                                                                           \n",
       "AVANCE_FINANCIERO    0                                                                                                                                                                                                               \n",
       "SPATIAL_OBJECT       {\"coordinates\":[-71.519,-32.9204,-71.5193,-32.9258],\"type\":\"Polyline\"}                                                                                                                                          \n",
       "MONTO_VIGENTE        356452840                                                                                                                                                                                                       \n",
       "CLASIFICACION        Transporte terrestre                                                                                                                                                                                            \n",
       "SERV_CONTR           MUNICIPALIDAD DE CONCON                                                                                                                                                                                         \n",
       "CODIGO_INI           No Existe Registro                                                                                                                                                                                              \n",
       "RUN_INSP_FIS         No Existe Registro                                                                                                                                                                                              \n",
       "X_EXPE               82987                                                                                                                                                                                                           \n",
       "RUT_CONTRATIS        10186886-9                                                                                                                                                                                                      \n",
       "SERV_MAND            MUNICIPALIDAD DE CONCON                                                                                                                                                                                         \n",
       "LIQUIDACION          -1                                                                                                                                                                                                              \n",
       "PLAZO_EJE            0                                                                                                                                                                                                               \n",
       "ID_MERCADO_PUB       2597-18-LP15                                                                                                                                                                                                    \n",
       "NOMBRE_CONTRATIS     OMAR MAURICIO CHAVEZ COLLAO                                                                                                                                                                                     \n",
       "AVANCE_FIN           0                                                                                                                                                                                                               \n",
       "TIPO_FIN             Presupuesto otro(s) organismo público                                                                                                                                                                           \n",
       "URL_ACTA             http://www.mercadopublico.cl/Procurement/Modules/RFB/StepsProcessAward/PreviewAwardAct.aspx?qs=3Ca+9RoOqRAtpOv7K77wqJAPvxhKQTEWA7P/omqbb5k=                                                                     \n",
       "SPATIAL_TOOL         DRAW                                                                                                                                                                                                            \n",
       "PROVINCIA            051                                                                                                                                                                                                             \n",
       "AVANCE_FIS           0                                                                                                                                                                                                               \n",
       "UNIDAD_EJE           Días hábiles                                                                                                                                                                                                    \n",
       "APELLIDO_M_INSP_FIS                                                                                                                                                                                                                  \n",
       "CODPROYECTO          83756                                                                                                                                                                                                           \n",
       "RUT_CONS             No Existe Registro                                                                                                                                                                                              \n",
       "F_ADJUDICACION       2015-04-08 00:00:00.0                                                                                                                                                                                           \n",
       "T_ANTICIPADO         -1                                                                                                                                                                                                              \n",
       "MONTO_MM_USD         0.509218                                                                                                                                                                                                        "
      ]
     },
     "execution_count": 40,
     "metadata": {},
     "output_type": "execute_result"
    }
   ],
   "source": [
    "pd.set_option('max_colwidth',-1)\n",
    "xdf=pd.DataFrame(cj[0],index=[0])\n",
    "xdf['MONTO_MM_USD']=xdf.MONTO_CONTRATADO/700000000\n",
    "xdf.T"
   ]
  },
  {
   "cell_type": "code",
   "execution_count": null,
   "metadata": {},
   "outputs": [],
   "source": []
  }
 ],
 "metadata": {
  "kernelspec": {
   "display_name": "Python 3",
   "language": "python",
   "name": "python3"
  },
  "language_info": {
   "codemirror_mode": {
    "name": "ipython",
    "version": 3
   },
   "file_extension": ".py",
   "mimetype": "text/x-python",
   "name": "python",
   "nbconvert_exporter": "python",
   "pygments_lexer": "ipython3",
   "version": "3.7.4"
  }
 },
 "nbformat": 4,
 "nbformat_minor": 4
}
